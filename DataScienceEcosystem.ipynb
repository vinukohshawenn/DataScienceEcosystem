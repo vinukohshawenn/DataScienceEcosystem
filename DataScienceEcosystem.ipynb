{
  "metadata": {
    "kernelspec": {
      "name": "python",
      "display_name": "Python (Pyodide)",
      "language": "python"
    },
    "language_info": {
      "codemirror_mode": {
        "name": "python",
        "version": 3
      },
      "file_extension": ".py",
      "mimetype": "text/x-python",
      "name": "python",
      "nbconvert_exporter": "python",
      "pygments_lexer": "ipython3",
      "version": "3.8"
    }
  },
  "nbformat_minor": 5,
  "nbformat": 4,
  "cells": [
    {
      "id": "798e6754-b7c9-4a0f-9440-a77f2f21fe0a",
      "cell_type": "markdown",
      "source": "# Data Science Tools and Ecosystem \n\nIn this notebook, Data Science Tools and Ecosystem are summarized",
      "metadata": {}
    },
    {
      "id": "aedf6c9a-f199-4d1f-82fd-796b3a908ddb",
      "cell_type": "markdown",
      "source": "# Objectives:\n- List of Popular Languages that Data Scientist Use\n- Table enlisting Data Science Tools\n- Enlisting some arthmetic operations used in Python\n- A program for calculating following expression: (3*4)+5\n- A program to convert 200 minutes to hours",
      "metadata": {}
    },
    {
      "id": "bbc00997-fd14-4a67-87da-972a76615220",
      "cell_type": "markdown",
      "source": "## Some of the popular languages that Data Scientists use are:\n1. Python\n2. R\n3. SQL\n   ",
      "metadata": {}
    },
    {
      "id": "56a1146b-0d36-4e61-9d60-072c70075a95",
      "cell_type": "markdown",
      "source": "## Some Data Science Libraries:\n\n 1. NumPy\n 2. Pandas\n 3. Seaborn\n",
      "metadata": {}
    },
    {
      "id": "68f1466f-cbb2-4144-9575-48f0c4d0acb8",
      "cell_type": "markdown",
      "source": "|Data Science Tools|\n|------------------|\n|Jupyter Nootebook |\n|Apache Spark      |\n|RStudio           |",
      "metadata": {}
    },
    {
      "id": "8b91f56e-dee5-4318-ac31-7e2c0b4df3ef",
      "cell_type": "markdown",
      "source": "### Below are a few examples of evaluating arithmetic expressions in Python\n\nAddition: +\nSubtraction: -\nMultiplication: *\nDivision: /",
      "metadata": {}
    },
    {
      "id": "6f710984-df8e-45a5-bdf5-0875f25e9d54",
      "cell_type": "code",
      "source": "print((3*4)+5)\n#This a simple arithmetic expression to mutiply then add integers\n",
      "metadata": {
        "trusted": true
      },
      "outputs": [
        {
          "name": "stdout",
          "output_type": "stream",
          "text": "17\n"
        }
      ],
      "execution_count": 5
    },
    {
      "id": "852ea506-265f-41c8-ae85-20d9aa78759e",
      "cell_type": "code",
      "source": "print(\"200 Minutes in hours: \", 200/60)\n#This will convert 200 minutes to hours by diving by 60\n",
      "metadata": {
        "trusted": true
      },
      "outputs": [
        {
          "name": "stdout",
          "output_type": "stream",
          "text": "200 Minutes in hours:  3.3333333333333335\n"
        }
      ],
      "execution_count": 6
    },
    {
      "id": "c52b59c7-43cb-4bdf-9487-6e669be062a5",
      "cell_type": "markdown",
      "source": "## Author\nVinay Sathish",
      "metadata": {
        "jp-MarkdownHeadingCollapsed": true
      }
    }
  ]
}